{
 "cells": [
  {
   "cell_type": "code",
   "execution_count": 2,
   "metadata": {},
   "outputs": [],
   "source": [
    "import pandas as pd\n",
    "import numpy as np\n",
    "from os.path import dirname, basename, splitext, join\n",
    "from glob import glob\n",
    "import matplotlib.pyplot as plt\n",
    "import matplotlib.dates as mdates\n",
    "%matplotlib inline"
   ]
  },
  {
   "cell_type": "code",
   "execution_count": 3,
   "metadata": {},
   "outputs": [
    {
     "output_type": "execute_result",
     "data": {
      "text/plain": [
       "            Modell Eisenverluste Einheit  200HX 200UHX   240HX 240UHX   310HX  \\\n",
       "Parameter                                                                       \n",
       "D1                Ø Stator innen      mm  128.0  133.0   153.0  178.0   199.5   \n",
       "D2            Ø Blechpaket innen      mm  136.0  140.0   161.0  186.0   209.5   \n",
       "D3         Ø Blechpaket Nutgrund      mm  144.6  148.0  175.66  195.0  277.87   \n",
       "D4                Ø Stator außen      mm  197.5  197.5   240.0  249.0   304.5   \n",
       "D5          (Ø) min. Rotor innen      mm  199.1  198.0   241.6  250.0  306.17   \n",
       "...                          ...     ...    ...    ...     ...    ...     ...   \n",
       "5TM                                                                             \n",
       "6TM                                    6    6.0    6.0                          \n",
       "8TM                                                               8.0           \n",
       "10TM                                                                            \n",
       "12TM                                                                            \n",
       "\n",
       "          310UHX 360UHX   410HX 410UHX   564HX  \n",
       "Parameter                                       \n",
       "D1         230.0  275.0   300.5  330.0   457.0  \n",
       "D2         240.0  286.0   312.5  340.0   471.0  \n",
       "D3         250.0  298.0   330.0  349.6  492.56  \n",
       "D4         313.0  357.4   410.0  416.0   564.0  \n",
       "D5         313.6  358.4  412.04  417.0   567.0  \n",
       "...          ...    ...     ...    ...     ...  \n",
       "5TM                                             \n",
       "6TM                 6.0            6.0          \n",
       "8TM                                             \n",
       "10TM                                            \n",
       "12TM               12.0           12.0          \n",
       "\n",
       "[136 rows x 12 columns]"
      ],
      "text/html": "<div>\n<style scoped>\n    .dataframe tbody tr th:only-of-type {\n        vertical-align: middle;\n    }\n\n    .dataframe tbody tr th {\n        vertical-align: top;\n    }\n\n    .dataframe thead th {\n        text-align: right;\n    }\n</style>\n<table border=\"1\" class=\"dataframe\">\n  <thead>\n    <tr style=\"text-align: right;\">\n      <th></th>\n      <th>Modell Eisenverluste</th>\n      <th>Einheit</th>\n      <th>200HX</th>\n      <th>200UHX</th>\n      <th>240HX</th>\n      <th>240UHX</th>\n      <th>310HX</th>\n      <th>310UHX</th>\n      <th>360UHX</th>\n      <th>410HX</th>\n      <th>410UHX</th>\n      <th>564HX</th>\n    </tr>\n    <tr>\n      <th>Parameter</th>\n      <th></th>\n      <th></th>\n      <th></th>\n      <th></th>\n      <th></th>\n      <th></th>\n      <th></th>\n      <th></th>\n      <th></th>\n      <th></th>\n      <th></th>\n      <th></th>\n    </tr>\n  </thead>\n  <tbody>\n    <tr>\n      <th>D1</th>\n      <td>Ø Stator innen</td>\n      <td>mm</td>\n      <td>128.0</td>\n      <td>133.0</td>\n      <td>153.0</td>\n      <td>178.0</td>\n      <td>199.5</td>\n      <td>230.0</td>\n      <td>275.0</td>\n      <td>300.5</td>\n      <td>330.0</td>\n      <td>457.0</td>\n    </tr>\n    <tr>\n      <th>D2</th>\n      <td>Ø Blechpaket innen</td>\n      <td>mm</td>\n      <td>136.0</td>\n      <td>140.0</td>\n      <td>161.0</td>\n      <td>186.0</td>\n      <td>209.5</td>\n      <td>240.0</td>\n      <td>286.0</td>\n      <td>312.5</td>\n      <td>340.0</td>\n      <td>471.0</td>\n    </tr>\n    <tr>\n      <th>D3</th>\n      <td>Ø Blechpaket Nutgrund</td>\n      <td>mm</td>\n      <td>144.6</td>\n      <td>148.0</td>\n      <td>175.66</td>\n      <td>195.0</td>\n      <td>277.87</td>\n      <td>250.0</td>\n      <td>298.0</td>\n      <td>330.0</td>\n      <td>349.6</td>\n      <td>492.56</td>\n    </tr>\n    <tr>\n      <th>D4</th>\n      <td>Ø Stator außen</td>\n      <td>mm</td>\n      <td>197.5</td>\n      <td>197.5</td>\n      <td>240.0</td>\n      <td>249.0</td>\n      <td>304.5</td>\n      <td>313.0</td>\n      <td>357.4</td>\n      <td>410.0</td>\n      <td>416.0</td>\n      <td>564.0</td>\n    </tr>\n    <tr>\n      <th>D5</th>\n      <td>(Ø) min. Rotor innen</td>\n      <td>mm</td>\n      <td>199.1</td>\n      <td>198.0</td>\n      <td>241.6</td>\n      <td>250.0</td>\n      <td>306.17</td>\n      <td>313.6</td>\n      <td>358.4</td>\n      <td>412.04</td>\n      <td>417.0</td>\n      <td>567.0</td>\n    </tr>\n    <tr>\n      <th>...</th>\n      <td>...</td>\n      <td>...</td>\n      <td>...</td>\n      <td>...</td>\n      <td>...</td>\n      <td>...</td>\n      <td>...</td>\n      <td>...</td>\n      <td>...</td>\n      <td>...</td>\n      <td>...</td>\n      <td>...</td>\n    </tr>\n    <tr>\n      <th>5TM</th>\n      <td></td>\n      <td></td>\n      <td></td>\n      <td></td>\n      <td></td>\n      <td></td>\n      <td></td>\n      <td></td>\n      <td></td>\n      <td></td>\n      <td></td>\n      <td></td>\n    </tr>\n    <tr>\n      <th>6TM</th>\n      <td></td>\n      <td>6</td>\n      <td>6.0</td>\n      <td>6.0</td>\n      <td></td>\n      <td></td>\n      <td></td>\n      <td></td>\n      <td>6.0</td>\n      <td></td>\n      <td>6.0</td>\n      <td></td>\n    </tr>\n    <tr>\n      <th>8TM</th>\n      <td></td>\n      <td></td>\n      <td></td>\n      <td></td>\n      <td></td>\n      <td>8.0</td>\n      <td></td>\n      <td></td>\n      <td></td>\n      <td></td>\n      <td></td>\n      <td></td>\n    </tr>\n    <tr>\n      <th>10TM</th>\n      <td></td>\n      <td></td>\n      <td></td>\n      <td></td>\n      <td></td>\n      <td></td>\n      <td></td>\n      <td></td>\n      <td></td>\n      <td></td>\n      <td></td>\n      <td></td>\n    </tr>\n    <tr>\n      <th>12TM</th>\n      <td></td>\n      <td></td>\n      <td></td>\n      <td></td>\n      <td></td>\n      <td></td>\n      <td></td>\n      <td></td>\n      <td>12.0</td>\n      <td></td>\n      <td>12.0</td>\n      <td></td>\n    </tr>\n  </tbody>\n</table>\n<p>136 rows × 12 columns</p>\n</div>"
     },
     "metadata": {},
     "execution_count": 3
    }
   ],
   "source": [
    "df = pd.read_csv(r\"C:\\Users\\wmolina\\Desktop\\GUI\\TechnoTable.csv\", delimiter=\";\", decimal=\",\", index_col='Parameter').fillna('')\n",
    "df"
   ]
  },
  {
   "cell_type": "code",
   "execution_count": 4,
   "metadata": {},
   "outputs": [
    {
     "output_type": "stream",
     "name": "stdout",
     "text": [
      "<class 'pandas.core.frame.DataFrame'>\nIndex: 136 entries, D1 to 12TM\nData columns (total 12 columns):\n #   Column                Non-Null Count  Dtype \n---  ------                --------------  ----- \n 0   Modell Eisenverluste  136 non-null    object\n 1   Einheit               136 non-null    object\n 2   200HX                 136 non-null    object\n 3   200UHX                136 non-null    object\n 4   240HX                 136 non-null    object\n 5   240UHX                136 non-null    object\n 6   310HX                 136 non-null    object\n 7   310UHX                136 non-null    object\n 8   360UHX                136 non-null    object\n 9   410HX                 136 non-null    object\n 10  410UHX                136 non-null    object\n 11  564HX                 136 non-null    object\ndtypes: object(12)\nmemory usage: 13.8+ KB\n"
     ]
    }
   ],
   "source": [
    "df.info()"
   ]
  },
  {
   "cell_type": "code",
   "execution_count": 15,
   "metadata": {},
   "outputs": [
    {
     "output_type": "stream",
     "name": "stdout",
     "text": [
      "<class 'pandas.core.frame.DataFrame'>\nIndex: 136 entries, D1 to 12TM\nData columns (total 12 columns):\n #   Column                Non-Null Count  Dtype  \n---  ------                --------------  -----  \n 0   Modell Eisenverluste  136 non-null    object \n 1   Einheit               136 non-null    object \n 2   200HX                 114 non-null    float32\n 3   200UHX                112 non-null    float64\n 4   240HX                 109 non-null    float64\n 5   240UHX                41 non-null     float64\n 6   310HX                 108 non-null    float64\n 7   310UHX                37 non-null     float64\n 8   360UHX                115 non-null    float64\n 9   410HX                 105 non-null    float64\n 10  410UHX                43 non-null     float64\n 11  564HX                 106 non-null    float64\ndtypes: float32(1), float64(9), object(2)\nmemory usage: 13.3+ KB\n"
     ]
    }
   ],
   "source": [
    "df[[\"200HX\", \"200UHX\", \"240HX\", \"240UHX\", \"310HX\", \"310UHX\", \"360UHX\", \"410HX\", \"410UHX\", \"564HX\"]] = df[[\"200HX\", \"200UHX\", \"240HX\", \"240UHX\", \"310HX\", \"310UHX\", \"360UHX\", \"410HX\", \"410UHX\", \"564HX\"]].apply(pd.to_numeric)\n",
    "df.info()"
   ]
  },
  {
   "cell_type": "code",
   "execution_count": 16,
   "metadata": {},
   "outputs": [
    {
     "output_type": "error",
     "ename": "KeyError",
     "evalue": "'D1'",
     "traceback": [
      "\u001b[1;31m---------------------------------------------------------------------------\u001b[0m",
      "\u001b[1;31mKeyError\u001b[0m                                  Traceback (most recent call last)",
      "\u001b[1;32m~\\Anaconda3\\envs\\gui\\lib\\site-packages\\pandas\\core\\indexes\\base.py\u001b[0m in \u001b[0;36mget_loc\u001b[1;34m(self, key, method, tolerance)\u001b[0m\n\u001b[0;32m   3079\u001b[0m             \u001b[1;32mtry\u001b[0m\u001b[1;33m:\u001b[0m\u001b[1;33m\u001b[0m\u001b[1;33m\u001b[0m\u001b[0m\n\u001b[1;32m-> 3080\u001b[1;33m                 \u001b[1;32mreturn\u001b[0m \u001b[0mself\u001b[0m\u001b[1;33m.\u001b[0m\u001b[0m_engine\u001b[0m\u001b[1;33m.\u001b[0m\u001b[0mget_loc\u001b[0m\u001b[1;33m(\u001b[0m\u001b[0mcasted_key\u001b[0m\u001b[1;33m)\u001b[0m\u001b[1;33m\u001b[0m\u001b[1;33m\u001b[0m\u001b[0m\n\u001b[0m\u001b[0;32m   3081\u001b[0m             \u001b[1;32mexcept\u001b[0m \u001b[0mKeyError\u001b[0m \u001b[1;32mas\u001b[0m \u001b[0merr\u001b[0m\u001b[1;33m:\u001b[0m\u001b[1;33m\u001b[0m\u001b[1;33m\u001b[0m\u001b[0m\n",
      "\u001b[1;32mpandas\\_libs\\index.pyx\u001b[0m in \u001b[0;36mpandas._libs.index.IndexEngine.get_loc\u001b[1;34m()\u001b[0m\n",
      "\u001b[1;32mpandas\\_libs\\index.pyx\u001b[0m in \u001b[0;36mpandas._libs.index.IndexEngine.get_loc\u001b[1;34m()\u001b[0m\n",
      "\u001b[1;32mpandas\\_libs\\hashtable_class_helper.pxi\u001b[0m in \u001b[0;36mpandas._libs.hashtable.PyObjectHashTable.get_item\u001b[1;34m()\u001b[0m\n",
      "\u001b[1;32mpandas\\_libs\\hashtable_class_helper.pxi\u001b[0m in \u001b[0;36mpandas._libs.hashtable.PyObjectHashTable.get_item\u001b[1;34m()\u001b[0m\n",
      "\u001b[1;31mKeyError\u001b[0m: 'D1'",
      "\nThe above exception was the direct cause of the following exception:\n",
      "\u001b[1;31mKeyError\u001b[0m                                  Traceback (most recent call last)",
      "\u001b[1;32m<ipython-input-16-2165191cbded>\u001b[0m in \u001b[0;36m<module>\u001b[1;34m\u001b[0m\n\u001b[1;32m----> 1\u001b[1;33m \u001b[0mD1\u001b[0m\u001b[1;33m=\u001b[0m\u001b[0mdf\u001b[0m\u001b[1;33m[\u001b[0m\u001b[1;34m\"D1\"\u001b[0m\u001b[1;33m]\u001b[0m\u001b[1;33m\u001b[0m\u001b[1;33m\u001b[0m\u001b[0m\n\u001b[0m\u001b[0;32m      2\u001b[0m \u001b[0mD1\u001b[0m\u001b[1;33m\u001b[0m\u001b[1;33m\u001b[0m\u001b[0m\n\u001b[0;32m      3\u001b[0m \u001b[0mD1\u001b[0m\u001b[1;33m.\u001b[0m\u001b[0mdtypes\u001b[0m\u001b[1;33m\u001b[0m\u001b[1;33m\u001b[0m\u001b[0m\n",
      "\u001b[1;32m~\\Anaconda3\\envs\\gui\\lib\\site-packages\\pandas\\core\\frame.py\u001b[0m in \u001b[0;36m__getitem__\u001b[1;34m(self, key)\u001b[0m\n\u001b[0;32m   3022\u001b[0m             \u001b[1;32mif\u001b[0m \u001b[0mself\u001b[0m\u001b[1;33m.\u001b[0m\u001b[0mcolumns\u001b[0m\u001b[1;33m.\u001b[0m\u001b[0mnlevels\u001b[0m \u001b[1;33m>\u001b[0m \u001b[1;36m1\u001b[0m\u001b[1;33m:\u001b[0m\u001b[1;33m\u001b[0m\u001b[1;33m\u001b[0m\u001b[0m\n\u001b[0;32m   3023\u001b[0m                 \u001b[1;32mreturn\u001b[0m \u001b[0mself\u001b[0m\u001b[1;33m.\u001b[0m\u001b[0m_getitem_multilevel\u001b[0m\u001b[1;33m(\u001b[0m\u001b[0mkey\u001b[0m\u001b[1;33m)\u001b[0m\u001b[1;33m\u001b[0m\u001b[1;33m\u001b[0m\u001b[0m\n\u001b[1;32m-> 3024\u001b[1;33m             \u001b[0mindexer\u001b[0m \u001b[1;33m=\u001b[0m \u001b[0mself\u001b[0m\u001b[1;33m.\u001b[0m\u001b[0mcolumns\u001b[0m\u001b[1;33m.\u001b[0m\u001b[0mget_loc\u001b[0m\u001b[1;33m(\u001b[0m\u001b[0mkey\u001b[0m\u001b[1;33m)\u001b[0m\u001b[1;33m\u001b[0m\u001b[1;33m\u001b[0m\u001b[0m\n\u001b[0m\u001b[0;32m   3025\u001b[0m             \u001b[1;32mif\u001b[0m \u001b[0mis_integer\u001b[0m\u001b[1;33m(\u001b[0m\u001b[0mindexer\u001b[0m\u001b[1;33m)\u001b[0m\u001b[1;33m:\u001b[0m\u001b[1;33m\u001b[0m\u001b[1;33m\u001b[0m\u001b[0m\n\u001b[0;32m   3026\u001b[0m                 \u001b[0mindexer\u001b[0m \u001b[1;33m=\u001b[0m \u001b[1;33m[\u001b[0m\u001b[0mindexer\u001b[0m\u001b[1;33m]\u001b[0m\u001b[1;33m\u001b[0m\u001b[1;33m\u001b[0m\u001b[0m\n",
      "\u001b[1;32m~\\Anaconda3\\envs\\gui\\lib\\site-packages\\pandas\\core\\indexes\\base.py\u001b[0m in \u001b[0;36mget_loc\u001b[1;34m(self, key, method, tolerance)\u001b[0m\n\u001b[0;32m   3080\u001b[0m                 \u001b[1;32mreturn\u001b[0m \u001b[0mself\u001b[0m\u001b[1;33m.\u001b[0m\u001b[0m_engine\u001b[0m\u001b[1;33m.\u001b[0m\u001b[0mget_loc\u001b[0m\u001b[1;33m(\u001b[0m\u001b[0mcasted_key\u001b[0m\u001b[1;33m)\u001b[0m\u001b[1;33m\u001b[0m\u001b[1;33m\u001b[0m\u001b[0m\n\u001b[0;32m   3081\u001b[0m             \u001b[1;32mexcept\u001b[0m \u001b[0mKeyError\u001b[0m \u001b[1;32mas\u001b[0m \u001b[0merr\u001b[0m\u001b[1;33m:\u001b[0m\u001b[1;33m\u001b[0m\u001b[1;33m\u001b[0m\u001b[0m\n\u001b[1;32m-> 3082\u001b[1;33m                 \u001b[1;32mraise\u001b[0m \u001b[0mKeyError\u001b[0m\u001b[1;33m(\u001b[0m\u001b[0mkey\u001b[0m\u001b[1;33m)\u001b[0m \u001b[1;32mfrom\u001b[0m \u001b[0merr\u001b[0m\u001b[1;33m\u001b[0m\u001b[1;33m\u001b[0m\u001b[0m\n\u001b[0m\u001b[0;32m   3083\u001b[0m \u001b[1;33m\u001b[0m\u001b[0m\n\u001b[0;32m   3084\u001b[0m         \u001b[1;32mif\u001b[0m \u001b[0mtolerance\u001b[0m \u001b[1;32mis\u001b[0m \u001b[1;32mnot\u001b[0m \u001b[1;32mNone\u001b[0m\u001b[1;33m:\u001b[0m\u001b[1;33m\u001b[0m\u001b[1;33m\u001b[0m\u001b[0m\n",
      "\u001b[1;31mKeyError\u001b[0m: 'D1'"
     ]
    }
   ],
   "source": [
    "D1=df[\"D1\"]\n",
    "D1\n",
    "D1.dtypes"
   ]
  },
  {
   "cell_type": "code",
   "execution_count": 4,
   "metadata": {},
   "outputs": [
    {
     "output_type": "execute_result",
     "data": {
      "text/plain": [
       "1623.5156"
      ]
     },
     "metadata": {},
     "execution_count": 4
    }
   ],
   "source": [
    "Cw_200UHX = data2[\"Cu\"]*data2[\"mcu\"]+(data2[\"CW2243-2L\"] + data2[\"HY2966\"])*data2[\"B_l100\"]*data2[\"c\"]\n",
    "Cw_200UHX"
   ]
  },
  {
   "cell_type": "code",
   "execution_count": 5,
   "metadata": {},
   "outputs": [
    {
     "output_type": "execute_result",
     "data": {
      "text/plain": [
       "0.0206827567242737"
      ]
     },
     "metadata": {},
     "execution_count": 5
    }
   ],
   "source": [
    "Pvfe_200UHXkg = (data2['VH']*(1/50)+data2['VW']*(1/50)**data2['a'])*(data2['Bmax'])\n",
    "Pvfe_200UHXkg"
   ]
  },
  {
   "cell_type": "code",
   "execution_count": 6,
   "metadata": {},
   "outputs": [
    {
     "output_type": "execute_result",
     "data": {
      "text/plain": [
       "0.4437485455192922"
      ]
     },
     "metadata": {},
     "execution_count": 6
    }
   ],
   "source": [
    "Pfe_200UHX = (data2['kb']*data2['mb']*Pvfe_200UHXkg)\n",
    "Pfe_200UHX"
   ]
  },
  {
   "cell_type": "code",
   "execution_count": 7,
   "metadata": {},
   "outputs": [
    {
     "output_type": "execute_result",
     "data": {
      "text/plain": [
       "1379.9757884026865"
      ]
     },
     "metadata": {},
     "execution_count": 7
    }
   ],
   "source": [
    "Pcu_200UHX = (80*(data2[\"Rwk\"]+data2[\"Rwb\"]+data2[\"Rbk\"])-data2[\"Rbk\"]*Pfe_200UHX)/(data2[\"Rwk\"]*(data2[\"Rwb\"]+data2[\"Rbk\"]))\n",
    "Pcu_200UHX"
   ]
  },
  {
   "cell_type": "code",
   "execution_count": null,
   "metadata": {},
   "outputs": [],
   "source": []
  }
 ],
 "metadata": {
  "kernelspec": {
   "name": "python3",
   "display_name": "Python 3.9.5 64-bit ('gui': conda)"
  },
  "language_info": {
   "codemirror_mode": {
    "name": "ipython",
    "version": 3
   },
   "file_extension": ".py",
   "mimetype": "text/x-python",
   "name": "python",
   "nbconvert_exporter": "python",
   "pygments_lexer": "ipython3",
   "version": "3.9.5"
  },
  "interpreter": {
   "hash": "7180a48191b3197123ae712e45ba89c67fae081bdfdf1031ed3cf9493046d4e4"
  }
 },
 "nbformat": 4,
 "nbformat_minor": 2
}