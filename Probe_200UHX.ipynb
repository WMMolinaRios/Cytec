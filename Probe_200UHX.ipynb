{
 "cells": [
  {
   "cell_type": "code",
   "execution_count": 1,
   "metadata": {},
   "outputs": [],
   "source": [
    "import pandas as pd\n",
    "import numpy as np\n",
    "from os.path import dirname, basename, splitext, join\n",
    "from glob import glob\n",
    "import matplotlib.pyplot as plt\n",
    "import matplotlib.dates as mdates\n",
    "%matplotlib inline"
   ]
  },
  {
   "cell_type": "code",
   "execution_count": 2,
   "metadata": {},
   "outputs": [
    {
     "output_type": "execute_result",
     "data": {
      "text/plain": [
       "            Modell Eisenverluste Einheit      200HX     200UHX     240 HX  \\\n",
       "Parameter                                                                   \n",
       "D1                Ø Stator innen      mm  128,00 mm  133,00 mm  153,00 mm   \n",
       "D2            Ø Blechpaket innen      mm  136,00 mm  140,00 mm  161,00 mm   \n",
       "D3         Ø Blechpaket Nutgrund      mm  144,60 mm  148,00 mm  175,66 mm   \n",
       "D4                Ø Stator außen      mm  197,50 mm  197,50 mm  240,00 mm   \n",
       "D5          (Ø) min. Rotor innen      mm  199,10 mm  198,00 mm  241,60 mm   \n",
       "...                          ...     ...        ...        ...        ...   \n",
       "6TM                                    6          6          6              \n",
       "8TM                                                                         \n",
       "10TM                                                                        \n",
       "12TM                                                                        \n",
       "NaN                                                                         \n",
       "\n",
       "             240 UHX     310 HX    310 UHX            360 HX    360 UHX  \\\n",
       "Parameter                                                                 \n",
       "D1         178,00 mm  199,50 mm  230,00 mm  nicht in Planung  275,00 mm   \n",
       "D2         186,00 mm  209,50 mm  240,00 mm                    286,00 mm   \n",
       "D3         195,00 mm  277,87 mm  250,00 mm                    298,00 mm   \n",
       "D4         249,00 mm  304,50 mm  313,00 mm                    357,40 mm   \n",
       "D5         250,00 mm  306,17 mm  313,60 mm                    358,40 mm   \n",
       "...              ...        ...        ...               ...        ...   \n",
       "6TM                                                                   6   \n",
       "8TM                8                                                      \n",
       "10TM                                                      10              \n",
       "12TM                                                                 12   \n",
       "NaN                                                                       \n",
       "\n",
       "              410 HX    410 UHX     564 HX     564 UHX  \n",
       "Parameter                                               \n",
       "D1         300,50 mm  330,00 mm  457,00 mm  in Planung  \n",
       "D2         312,50 mm  340,00 mm  471,00 mm              \n",
       "D3         330,00 mm  349,60 mm  492,56 mm              \n",
       "D4         410,00 mm  416,00 mm  564,00 mm              \n",
       "D5         412,04 mm  417,00 mm  567,00 mm              \n",
       "...              ...        ...        ...         ...  \n",
       "6TM                           6                         \n",
       "8TM                                                     \n",
       "10TM                                                    \n",
       "12TM                         12                         \n",
       "NaN                                                     \n",
       "\n",
       "[140 rows x 14 columns]"
      ],
      "text/html": "<div>\n<style scoped>\n    .dataframe tbody tr th:only-of-type {\n        vertical-align: middle;\n    }\n\n    .dataframe tbody tr th {\n        vertical-align: top;\n    }\n\n    .dataframe thead th {\n        text-align: right;\n    }\n</style>\n<table border=\"1\" class=\"dataframe\">\n  <thead>\n    <tr style=\"text-align: right;\">\n      <th></th>\n      <th>Modell Eisenverluste</th>\n      <th>Einheit</th>\n      <th>200HX</th>\n      <th>200UHX</th>\n      <th>240 HX</th>\n      <th>240 UHX</th>\n      <th>310 HX</th>\n      <th>310 UHX</th>\n      <th>360 HX</th>\n      <th>360 UHX</th>\n      <th>410 HX</th>\n      <th>410 UHX</th>\n      <th>564 HX</th>\n      <th>564 UHX</th>\n    </tr>\n    <tr>\n      <th>Parameter</th>\n      <th></th>\n      <th></th>\n      <th></th>\n      <th></th>\n      <th></th>\n      <th></th>\n      <th></th>\n      <th></th>\n      <th></th>\n      <th></th>\n      <th></th>\n      <th></th>\n      <th></th>\n      <th></th>\n    </tr>\n  </thead>\n  <tbody>\n    <tr>\n      <th>D1</th>\n      <td>Ø Stator innen</td>\n      <td>mm</td>\n      <td>128,00 mm</td>\n      <td>133,00 mm</td>\n      <td>153,00 mm</td>\n      <td>178,00 mm</td>\n      <td>199,50 mm</td>\n      <td>230,00 mm</td>\n      <td>nicht in Planung</td>\n      <td>275,00 mm</td>\n      <td>300,50 mm</td>\n      <td>330,00 mm</td>\n      <td>457,00 mm</td>\n      <td>in Planung</td>\n    </tr>\n    <tr>\n      <th>D2</th>\n      <td>Ø Blechpaket innen</td>\n      <td>mm</td>\n      <td>136,00 mm</td>\n      <td>140,00 mm</td>\n      <td>161,00 mm</td>\n      <td>186,00 mm</td>\n      <td>209,50 mm</td>\n      <td>240,00 mm</td>\n      <td></td>\n      <td>286,00 mm</td>\n      <td>312,50 mm</td>\n      <td>340,00 mm</td>\n      <td>471,00 mm</td>\n      <td></td>\n    </tr>\n    <tr>\n      <th>D3</th>\n      <td>Ø Blechpaket Nutgrund</td>\n      <td>mm</td>\n      <td>144,60 mm</td>\n      <td>148,00 mm</td>\n      <td>175,66 mm</td>\n      <td>195,00 mm</td>\n      <td>277,87 mm</td>\n      <td>250,00 mm</td>\n      <td></td>\n      <td>298,00 mm</td>\n      <td>330,00 mm</td>\n      <td>349,60 mm</td>\n      <td>492,56 mm</td>\n      <td></td>\n    </tr>\n    <tr>\n      <th>D4</th>\n      <td>Ø Stator außen</td>\n      <td>mm</td>\n      <td>197,50 mm</td>\n      <td>197,50 mm</td>\n      <td>240,00 mm</td>\n      <td>249,00 mm</td>\n      <td>304,50 mm</td>\n      <td>313,00 mm</td>\n      <td></td>\n      <td>357,40 mm</td>\n      <td>410,00 mm</td>\n      <td>416,00 mm</td>\n      <td>564,00 mm</td>\n      <td></td>\n    </tr>\n    <tr>\n      <th>D5</th>\n      <td>(Ø) min. Rotor innen</td>\n      <td>mm</td>\n      <td>199,10 mm</td>\n      <td>198,00 mm</td>\n      <td>241,60 mm</td>\n      <td>250,00 mm</td>\n      <td>306,17 mm</td>\n      <td>313,60 mm</td>\n      <td></td>\n      <td>358,40 mm</td>\n      <td>412,04 mm</td>\n      <td>417,00 mm</td>\n      <td>567,00 mm</td>\n      <td></td>\n    </tr>\n    <tr>\n      <th>...</th>\n      <td>...</td>\n      <td>...</td>\n      <td>...</td>\n      <td>...</td>\n      <td>...</td>\n      <td>...</td>\n      <td>...</td>\n      <td>...</td>\n      <td>...</td>\n      <td>...</td>\n      <td>...</td>\n      <td>...</td>\n      <td>...</td>\n      <td>...</td>\n    </tr>\n    <tr>\n      <th>6TM</th>\n      <td></td>\n      <td>6</td>\n      <td>6</td>\n      <td>6</td>\n      <td></td>\n      <td></td>\n      <td></td>\n      <td></td>\n      <td></td>\n      <td>6</td>\n      <td></td>\n      <td>6</td>\n      <td></td>\n      <td></td>\n    </tr>\n    <tr>\n      <th>8TM</th>\n      <td></td>\n      <td></td>\n      <td></td>\n      <td></td>\n      <td></td>\n      <td>8</td>\n      <td></td>\n      <td></td>\n      <td></td>\n      <td></td>\n      <td></td>\n      <td></td>\n      <td></td>\n      <td></td>\n    </tr>\n    <tr>\n      <th>10TM</th>\n      <td></td>\n      <td></td>\n      <td></td>\n      <td></td>\n      <td></td>\n      <td></td>\n      <td></td>\n      <td></td>\n      <td>10</td>\n      <td></td>\n      <td></td>\n      <td></td>\n      <td></td>\n      <td></td>\n    </tr>\n    <tr>\n      <th>12TM</th>\n      <td></td>\n      <td></td>\n      <td></td>\n      <td></td>\n      <td></td>\n      <td></td>\n      <td></td>\n      <td></td>\n      <td></td>\n      <td>12</td>\n      <td></td>\n      <td>12</td>\n      <td></td>\n      <td></td>\n    </tr>\n    <tr>\n      <th>NaN</th>\n      <td></td>\n      <td></td>\n      <td></td>\n      <td></td>\n      <td></td>\n      <td></td>\n      <td></td>\n      <td></td>\n      <td></td>\n      <td></td>\n      <td></td>\n      <td></td>\n      <td></td>\n      <td></td>\n    </tr>\n  </tbody>\n</table>\n<p>140 rows × 14 columns</p>\n</div>"
     },
     "metadata": {},
     "execution_count": 2
    }
   ],
   "source": [
    "df = pd.read_csv(r\"C:\\Users\\wmolina\\Desktop\\GUI\\TechnoTable.csv\", delimiter=\";\", decimal=\",\", index_col='Parameter').fillna('')\n",
    "df"
   ]
  },
  {
   "cell_type": "code",
   "execution_count": 8,
   "metadata": {},
   "outputs": [
    {
     "output_type": "execute_result",
     "data": {
      "text/plain": [
       "Modell Eisenverluste    object\n",
       "Einheit                 object\n",
       "200HX                   object\n",
       "200UHX                  object\n",
       "240 HX                  object\n",
       "240 UHX                 object\n",
       "310 HX                  object\n",
       "310 UHX                 object\n",
       "360 HX                  object\n",
       "360 UHX                 object\n",
       "410 HX                  object\n",
       "410 UHX                 object\n",
       "564 HX                  object\n",
       "564 UHX                 object\n",
       "dtype: object"
      ]
     },
     "metadata": {},
     "execution_count": 8
    }
   ],
   "source": [
    "df.dtypes"
   ]
  },
  {
   "cell_type": "code",
   "execution_count": 3,
   "metadata": {},
   "outputs": [
    {
     "output_type": "execute_result",
     "data": {
      "text/plain": [
       "Parameter\n",
       "D1      133,00 mm\n",
       "D2      140,00 mm\n",
       "D3      148,00 mm\n",
       "D4      197,50 mm\n",
       "D5      198,00 mm\n",
       "          ...    \n",
       "6TM             6\n",
       "8TM              \n",
       "10TM             \n",
       "12TM             \n",
       "NaN              \n",
       "Name: 200UHX, Length: 140, dtype: object"
      ]
     },
     "metadata": {},
     "execution_count": 3
    }
   ],
   "source": [
    "data2 = df[\"200UHX\"]\n",
    "data2"
   ]
  },
  {
   "cell_type": "code",
   "execution_count": 7,
   "metadata": {},
   "outputs": [
    {
     "output_type": "error",
     "ename": "AttributeError",
     "evalue": "'str' object has no attribute 'dtypes'",
     "traceback": [
      "\u001b[1;31m---------------------------------------------------------------------------\u001b[0m",
      "\u001b[1;31mAttributeError\u001b[0m                            Traceback (most recent call last)",
      "\u001b[1;32m<ipython-input-7-cc522ebb72a9>\u001b[0m in \u001b[0;36m<module>\u001b[1;34m\u001b[0m\n\u001b[0;32m      1\u001b[0m \u001b[0mD1\u001b[0m\u001b[1;33m=\u001b[0m\u001b[0mdata2\u001b[0m\u001b[1;33m[\u001b[0m\u001b[1;34m\"D1\"\u001b[0m\u001b[1;33m]\u001b[0m\u001b[1;33m\u001b[0m\u001b[1;33m\u001b[0m\u001b[0m\n\u001b[0;32m      2\u001b[0m \u001b[0mD1\u001b[0m\u001b[1;33m\u001b[0m\u001b[1;33m\u001b[0m\u001b[0m\n\u001b[1;32m----> 3\u001b[1;33m \u001b[0mD1\u001b[0m\u001b[1;33m.\u001b[0m\u001b[0mdtypes\u001b[0m\u001b[1;33m\u001b[0m\u001b[1;33m\u001b[0m\u001b[0m\n\u001b[0m",
      "\u001b[1;31mAttributeError\u001b[0m: 'str' object has no attribute 'dtypes'"
     ]
    }
   ],
   "source": [
    "D1=data2[\"D1\"]\n",
    "D1\n",
    "D1.dtypes"
   ]
  },
  {
   "cell_type": "code",
   "execution_count": 4,
   "metadata": {},
   "outputs": [
    {
     "output_type": "execute_result",
     "data": {
      "text/plain": [
       "1623.5156"
      ]
     },
     "metadata": {},
     "execution_count": 4
    }
   ],
   "source": [
    "Cw_200UHX = data2[\"Cu\"]*data2[\"mcu\"]+(data2[\"CW2243-2L\"] + data2[\"HY2966\"])*data2[\"B_l100\"]*data2[\"c\"]\n",
    "Cw_200UHX"
   ]
  },
  {
   "cell_type": "code",
   "execution_count": 5,
   "metadata": {},
   "outputs": [
    {
     "output_type": "execute_result",
     "data": {
      "text/plain": [
       "0.0206827567242737"
      ]
     },
     "metadata": {},
     "execution_count": 5
    }
   ],
   "source": [
    "Pvfe_200UHXkg = (data2['VH']*(1/50)+data2['VW']*(1/50)**data2['a'])*(data2['Bmax'])\n",
    "Pvfe_200UHXkg"
   ]
  },
  {
   "cell_type": "code",
   "execution_count": 6,
   "metadata": {},
   "outputs": [
    {
     "output_type": "execute_result",
     "data": {
      "text/plain": [
       "0.4437485455192922"
      ]
     },
     "metadata": {},
     "execution_count": 6
    }
   ],
   "source": [
    "Pfe_200UHX = (data2['kb']*data2['mb']*Pvfe_200UHXkg)\n",
    "Pfe_200UHX"
   ]
  },
  {
   "cell_type": "code",
   "execution_count": 7,
   "metadata": {},
   "outputs": [
    {
     "output_type": "execute_result",
     "data": {
      "text/plain": [
       "1379.9757884026865"
      ]
     },
     "metadata": {},
     "execution_count": 7
    }
   ],
   "source": [
    "Pcu_200UHX = (80*(data2[\"Rwk\"]+data2[\"Rwb\"]+data2[\"Rbk\"])-data2[\"Rbk\"]*Pfe_200UHX)/(data2[\"Rwk\"]*(data2[\"Rwb\"]+data2[\"Rbk\"]))\n",
    "Pcu_200UHX"
   ]
  },
  {
   "cell_type": "code",
   "execution_count": null,
   "metadata": {},
   "outputs": [],
   "source": []
  }
 ],
 "metadata": {
  "kernelspec": {
   "name": "python3",
   "display_name": "Python 3.9.5 64-bit ('gui': conda)"
  },
  "language_info": {
   "codemirror_mode": {
    "name": "ipython",
    "version": 3
   },
   "file_extension": ".py",
   "mimetype": "text/x-python",
   "name": "python",
   "nbconvert_exporter": "python",
   "pygments_lexer": "ipython3",
   "version": "3.9.5"
  },
  "interpreter": {
   "hash": "7180a48191b3197123ae712e45ba89c67fae081bdfdf1031ed3cf9493046d4e4"
  }
 },
 "nbformat": 4,
 "nbformat_minor": 2
}