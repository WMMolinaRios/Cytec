{
 "cells": [
  {
   "cell_type": "code",
   "execution_count": 1,
   "id": "87d87646-ea3b-4d18-843b-815d7fa74304",
   "metadata": {},
   "outputs": [],
   "source": [
    "import pandas as pd"
   ]
  },
  {
   "cell_type": "code",
   "execution_count": 2,
   "id": "0f48b3ae-6533-4d2b-a864-2fa18c215c66",
   "metadata": {},
   "outputs": [
    {
     "output_type": "execute_result",
     "data": {
      "text/plain": [
       "              200UHX\n",
       "Parameter           \n",
       "Rth           0.0580\n",
       "Rwk           0.5800\n",
       "Rwb           0.0483\n",
       "Rbk           0.0161\n",
       "Rnk           0.2088\n",
       "Cw         1623.5000\n",
       "Cb         3427.9000\n",
       "Tw           78.5000\n",
       "Tb           55.2000\n",
       "Bmax          1.7000\n",
       "VH            0.5780\n",
       "VW            0.3170\n",
       "a             1.6000\n",
       "b             1.9300\n",
       "kb            3.5000\n",
       "mb            6.1300"
      ],
      "text/html": "<div>\n<style scoped>\n    .dataframe tbody tr th:only-of-type {\n        vertical-align: middle;\n    }\n\n    .dataframe tbody tr th {\n        vertical-align: top;\n    }\n\n    .dataframe thead th {\n        text-align: right;\n    }\n</style>\n<table border=\"1\" class=\"dataframe\">\n  <thead>\n    <tr style=\"text-align: right;\">\n      <th></th>\n      <th>200UHX</th>\n    </tr>\n    <tr>\n      <th>Parameter</th>\n      <th></th>\n    </tr>\n  </thead>\n  <tbody>\n    <tr>\n      <th>Rth</th>\n      <td>0.0580</td>\n    </tr>\n    <tr>\n      <th>Rwk</th>\n      <td>0.5800</td>\n    </tr>\n    <tr>\n      <th>Rwb</th>\n      <td>0.0483</td>\n    </tr>\n    <tr>\n      <th>Rbk</th>\n      <td>0.0161</td>\n    </tr>\n    <tr>\n      <th>Rnk</th>\n      <td>0.2088</td>\n    </tr>\n    <tr>\n      <th>Cw</th>\n      <td>1623.5000</td>\n    </tr>\n    <tr>\n      <th>Cb</th>\n      <td>3427.9000</td>\n    </tr>\n    <tr>\n      <th>Tw</th>\n      <td>78.5000</td>\n    </tr>\n    <tr>\n      <th>Tb</th>\n      <td>55.2000</td>\n    </tr>\n    <tr>\n      <th>Bmax</th>\n      <td>1.7000</td>\n    </tr>\n    <tr>\n      <th>VH</th>\n      <td>0.5780</td>\n    </tr>\n    <tr>\n      <th>VW</th>\n      <td>0.3170</td>\n    </tr>\n    <tr>\n      <th>a</th>\n      <td>1.6000</td>\n    </tr>\n    <tr>\n      <th>b</th>\n      <td>1.9300</td>\n    </tr>\n    <tr>\n      <th>kb</th>\n      <td>3.5000</td>\n    </tr>\n    <tr>\n      <th>mb</th>\n      <td>6.1300</td>\n    </tr>\n  </tbody>\n</table>\n</div>"
     },
     "metadata": {},
     "execution_count": 2
    }
   ],
   "source": [
    "df = pd.read_csv(\"Interface/Teil1_200UHX.csv\", delimiter=\";\", decimal=\",\", index_col='Parameter')\n",
    "df"
   ]
  },
  {
   "cell_type": "code",
   "execution_count": 3,
   "id": "07e31bbf-9ada-4b0c-9e9c-ecb06265a9ce",
   "metadata": {},
   "outputs": [
    {
     "output_type": "execute_result",
     "data": {
      "text/plain": [
       "Parameter\n",
       "Rth        0.0580\n",
       "Rwk        0.5800\n",
       "Rwb        0.0483\n",
       "Rbk        0.0161\n",
       "Rnk        0.2088\n",
       "Cw      1623.5000\n",
       "Cb      3427.9000\n",
       "Tw        78.5000\n",
       "Tb        55.2000\n",
       "Bmax       1.7000\n",
       "VH         0.5780\n",
       "VW         0.3170\n",
       "a          1.6000\n",
       "b          1.9300\n",
       "kb         3.5000\n",
       "mb         6.1300\n",
       "Name: 200UHX, dtype: float64"
      ]
     },
     "metadata": {},
     "execution_count": 3
    }
   ],
   "source": [
    "data = df[\"200UHX\"]\n",
    "data"
   ]
  },
  {
   "cell_type": "code",
   "execution_count": 4,
   "id": "fc5c01bb-44fd-4bf9-8bd0-53a10c2b0450",
   "metadata": {},
   "outputs": [
    {
     "output_type": "execute_result",
     "data": {
      "text/plain": [
       "78.5"
      ]
     },
     "metadata": {},
     "execution_count": 4
    }
   ],
   "source": [
    "data[\"Tw\"]"
   ]
  },
  {
   "cell_type": "code",
   "execution_count": 5,
   "id": "0c49b56f-6ad7-45b6-80c4-034421fc4f37",
   "metadata": {},
   "outputs": [
    {
     "output_type": "execute_result",
     "data": {
      "text/plain": [
       "0.317"
      ]
     },
     "metadata": {},
     "execution_count": 5
    }
   ],
   "source": [
    "data[\"VW\"]"
   ]
  },
  {
   "cell_type": "code",
   "execution_count": null,
   "metadata": {},
   "outputs": [],
   "source": []
  }
 ],
 "metadata": {
  "kernelspec": {
   "name": "python395jvsc74a57bd0f2e0c1bc062f023b48050aa5ee43f5534af2d5c29e8e4f1dee0349f8779d2dd1",
   "display_name": "Python 3.9.5 64-bit ('gui': conda)"
  },
  "language_info": {
   "codemirror_mode": {
    "name": "ipython",
    "version": 3
   },
   "file_extension": ".py",
   "mimetype": "text/x-python",
   "name": "python",
   "nbconvert_exporter": "python",
   "pygments_lexer": "ipython3",
   "version": "3.9.5"
  }
 },
 "nbformat": 4,
 "nbformat_minor": 5
}