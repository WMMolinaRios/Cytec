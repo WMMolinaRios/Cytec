{
 "cells": [
  {
   "cell_type": "code",
   "execution_count": 1,
   "id": "87d87646-ea3b-4d18-843b-815d7fa74304",
   "metadata": {},
   "outputs": [],
   "source": [
    "import pandas as pd"
   ]
  },
  {
   "cell_type": "code",
   "execution_count": 11,
   "id": "0f48b3ae-6533-4d2b-a864-2fa18c215c66",
   "metadata": {},
   "outputs": [
    {
     "data": {
      "text/html": [
       "<div>\n",
       "<style scoped>\n",
       "    .dataframe tbody tr th:only-of-type {\n",
       "        vertical-align: middle;\n",
       "    }\n",
       "\n",
       "    .dataframe tbody tr th {\n",
       "        vertical-align: top;\n",
       "    }\n",
       "\n",
       "    .dataframe thead th {\n",
       "        text-align: right;\n",
       "    }\n",
       "</style>\n",
       "<table border=\"1\" class=\"dataframe\">\n",
       "  <thead>\n",
       "    <tr style=\"text-align: right;\">\n",
       "      <th></th>\n",
       "      <th>200UHX</th>\n",
       "    </tr>\n",
       "    <tr>\n",
       "      <th>Parameter</th>\n",
       "      <th></th>\n",
       "    </tr>\n",
       "  </thead>\n",
       "  <tbody>\n",
       "    <tr>\n",
       "      <th>Rth</th>\n",
       "      <td>0.0580</td>\n",
       "    </tr>\n",
       "    <tr>\n",
       "      <th>Rwk</th>\n",
       "      <td>0.5800</td>\n",
       "    </tr>\n",
       "    <tr>\n",
       "      <th>Rwb</th>\n",
       "      <td>0.0483</td>\n",
       "    </tr>\n",
       "    <tr>\n",
       "      <th>Rbk</th>\n",
       "      <td>0.0161</td>\n",
       "    </tr>\n",
       "    <tr>\n",
       "      <th>Rnk</th>\n",
       "      <td>0.2088</td>\n",
       "    </tr>\n",
       "    <tr>\n",
       "      <th>Cw</th>\n",
       "      <td>1623.5000</td>\n",
       "    </tr>\n",
       "    <tr>\n",
       "      <th>Cb</th>\n",
       "      <td>3427.9000</td>\n",
       "    </tr>\n",
       "    <tr>\n",
       "      <th>Tw</th>\n",
       "      <td>78.5000</td>\n",
       "    </tr>\n",
       "    <tr>\n",
       "      <th>Tb</th>\n",
       "      <td>55.2000</td>\n",
       "    </tr>\n",
       "    <tr>\n",
       "      <th>Bmax</th>\n",
       "      <td>1.7000</td>\n",
       "    </tr>\n",
       "    <tr>\n",
       "      <th>VH</th>\n",
       "      <td>0.5780</td>\n",
       "    </tr>\n",
       "    <tr>\n",
       "      <th>VW</th>\n",
       "      <td>0.3170</td>\n",
       "    </tr>\n",
       "    <tr>\n",
       "      <th>a</th>\n",
       "      <td>1.6000</td>\n",
       "    </tr>\n",
       "    <tr>\n",
       "      <th>b</th>\n",
       "      <td>1.9300</td>\n",
       "    </tr>\n",
       "    <tr>\n",
       "      <th>kb</th>\n",
       "      <td>3.5000</td>\n",
       "    </tr>\n",
       "    <tr>\n",
       "      <th>mb</th>\n",
       "      <td>6.1300</td>\n",
       "    </tr>\n",
       "  </tbody>\n",
       "</table>\n",
       "</div>"
      ],
      "text/plain": [
       "              200UHX\n",
       "Parameter           \n",
       "Rth           0.0580\n",
       "Rwk           0.5800\n",
       "Rwb           0.0483\n",
       "Rbk           0.0161\n",
       "Rnk           0.2088\n",
       "Cw         1623.5000\n",
       "Cb         3427.9000\n",
       "Tw           78.5000\n",
       "Tb           55.2000\n",
       "Bmax          1.7000\n",
       "VH            0.5780\n",
       "VW            0.3170\n",
       "a             1.6000\n",
       "b             1.9300\n",
       "kb            3.5000\n",
       "mb            6.1300"
      ]
     },
     "execution_count": 11,
     "metadata": {},
     "output_type": "execute_result"
    }
   ],
   "source": [
    "df = pd.read_csv(\"Interface/Teil1_200UHX.csv\", delimiter=\";\", decimal=\",\", index_col='Parameter')\n",
    "df"
   ]
  },
  {
   "cell_type": "code",
   "execution_count": 12,
   "id": "07e31bbf-9ada-4b0c-9e9c-ecb06265a9ce",
   "metadata": {},
   "outputs": [
    {
     "data": {
      "text/plain": [
       "Parameter\n",
       "Rth        0.0580\n",
       "Rwk        0.5800\n",
       "Rwb        0.0483\n",
       "Rbk        0.0161\n",
       "Rnk        0.2088\n",
       "Cw      1623.5000\n",
       "Cb      3427.9000\n",
       "Tw        78.5000\n",
       "Tb        55.2000\n",
       "Bmax       1.7000\n",
       "VH         0.5780\n",
       "VW         0.3170\n",
       "a          1.6000\n",
       "b          1.9300\n",
       "kb         3.5000\n",
       "mb         6.1300\n",
       "Name: 200UHX, dtype: float64"
      ]
     },
     "execution_count": 12,
     "metadata": {},
     "output_type": "execute_result"
    }
   ],
   "source": [
    "data = df[\"200UHX\"]\n",
    "data"
   ]
  },
  {
   "cell_type": "code",
   "execution_count": 8,
   "id": "fc5c01bb-44fd-4bf9-8bd0-53a10c2b0450",
   "metadata": {},
   "outputs": [
    {
     "data": {
      "text/plain": [
       "78.5"
      ]
     },
     "execution_count": 8,
     "metadata": {},
     "output_type": "execute_result"
    }
   ],
   "source": [
    "data[\"Tw\"]"
   ]
  },
  {
   "cell_type": "code",
   "execution_count": null,
   "id": "0c49b56f-6ad7-45b6-80c4-034421fc4f37",
   "metadata": {},
   "outputs": [],
   "source": []
  }
 ],
 "metadata": {
  "kernelspec": {
   "display_name": "Python 3",
   "language": "python",
   "name": "python3"
  },
  "language_info": {
   "codemirror_mode": {
    "name": "ipython",
    "version": 3
   },
   "file_extension": ".py",
   "mimetype": "text/x-python",
   "name": "python",
   "nbconvert_exporter": "python",
   "pygments_lexer": "ipython3",
   "version": "3.8.8"
  }
 },
 "nbformat": 4,
 "nbformat_minor": 5
}
